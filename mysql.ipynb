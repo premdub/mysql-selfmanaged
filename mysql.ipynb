{
  "nbformat": 4,
  "nbformat_minor": 0,
  "metadata": {
    "colab": {
      "provenance": [],
      "collapsed_sections": [],
      "authorship_tag": "ABX9TyMNDXh4cB/J8iqbOqaSGXjp",
      "include_colab_link": true
    },
    "kernelspec": {
      "name": "python3",
      "display_name": "Python 3"
    },
    "language_info": {
      "name": "python"
    }
  },
  "cells": [
    {
      "cell_type": "markdown",
      "metadata": {
        "id": "view-in-github",
        "colab_type": "text"
      },
      "source": [
        "<a href=\"https://colab.research.google.com/github/premdub/mysql-selfmanaged/blob/main/mysql.ipynb\" target=\"_parent\"><img src=\"https://colab.research.google.com/assets/colab-badge.svg\" alt=\"Open In Colab\"/></a>"
      ]
    },
    {
      "cell_type": "code",
      "execution_count": null,
      "metadata": {
        "id": "0ajDpyEXEDIW"
      },
      "outputs": [],
      "source": [
        "!sudo apt-get install python3-dev default-libmysqlclient-dev"
      ]
    },
    {
      "cell_type": "code",
      "source": [
        "!pip install pymysql sqlalchemy"
      ],
      "metadata": {
        "id": "80JQUa2wFRy9"
      },
      "execution_count": null,
      "outputs": []
    },
    {
      "cell_type": "code",
      "source": [
        "!pip install python-dotenv"
      ],
      "metadata": {
        "id": "kthu2C8w_VQp"
      },
      "execution_count": null,
      "outputs": []
    },
    {
      "cell_type": "code",
      "source": [
        "from sqlalchemy import create_engine\n",
        "import pandas as pd\n",
        "import pymysql\n",
        "import os\n",
        "\n"
      ],
      "metadata": {
        "id": "MasZFc9C9Xrd"
      },
      "execution_count": 58,
      "outputs": []
    },
    {
      "cell_type": "code",
      "source": [
        "MYSQL_HOSTNAME = '35.193.75.235'\n",
        "MYSQL_USER = 'pdubey'\n",
        "MYSQL_PASSWORD = 'prem4321'\n",
        "MYSQL_DATABASE ='brain_size_df'"
      ],
      "metadata": {
        "id": "5dkbOk-DGErr"
      },
      "execution_count": 59,
      "outputs": []
    },
    {
      "cell_type": "code",
      "source": [
        "connect_string = f'mysql+pymysql://{MYSQL_USER}:{MYSQL_PASSWORD}@{MYSQL_HOSTNAME}/{MYSQL_DATABASE}'\n",
        "connect_string"
      ],
      "metadata": {
        "id": "gx9dL3ZmG4Hl"
      },
      "execution_count": null,
      "outputs": []
    },
    {
      "cell_type": "code",
      "source": [
        "db = create_engine(connect_string)\n",
        "db\n"
      ],
      "metadata": {
        "id": "-SYf1QzGIpnn"
      },
      "execution_count": null,
      "outputs": []
    },
    {
      "cell_type": "code",
      "source": [
        "import pandas as pd"
      ],
      "metadata": {
        "id": "lcg2Kz0pPhYD"
      },
      "execution_count": 62,
      "outputs": []
    },
    {
      "cell_type": "code",
      "source": [
        "brain_size_df = pd.read_csv(\"https://raw.githubusercontent.com/premdub/descriptives_scipy/main/data/brain_size.csv\")\n",
        "brain_size_df"
      ],
      "metadata": {
        "id": "edVwuBVzkoSY"
      },
      "execution_count": null,
      "outputs": []
    },
    {
      "cell_type": "markdown",
      "source": [],
      "metadata": {
        "id": "mwtSuG8eVomb"
      }
    },
    {
      "cell_type": "markdown",
      "source": [
        "# Push dataset as a new table within real_df database. \n",
        "## push this dataset through this dataframe into the new database: read_df which exist on that IP and save it there. So anyone that have access can potentially query this information."
      ],
      "metadata": {
        "id": "QGxwR0G3WedD"
      }
    },
    {
      "cell_type": "code",
      "source": [
        "brain_size_df.to_sql ('brain_size_table', con=db, if_exists=\"replace\")"
      ],
      "metadata": {
        "id": "8TgfalTkXAWS"
      },
      "execution_count": null,
      "outputs": []
    }
  ]
}